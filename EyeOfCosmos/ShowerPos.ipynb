{
 "cells": [
  {
   "cell_type": "code",
   "execution_count": 3,
   "id": "080dee20",
   "metadata": {},
   "outputs": [],
   "source": [
    "import ROOT as R\n",
    "import numpy as np\n",
    "rng = np.random.default_rng()"
   ]
  },
  {
   "cell_type": "code",
   "execution_count": 5,
   "id": "c48d4a2e",
   "metadata": {},
   "outputs": [
    {
     "data": {
      "text/plain": [
       "array([ 0., 10., 20., 30., 40., 50., 60., 70., 80., 90.])"
      ]
     },
     "execution_count": 5,
     "metadata": {},
     "output_type": "execute_result"
    }
   ],
   "source": [
    "nDet = 10\n",
    "xDet = np.linspace(0, 90, 10)\n",
    "xDet"
   ]
  },
  {
   "cell_type": "code",
   "execution_count": null,
   "id": "b412b1a7",
   "metadata": {},
   "outputs": [],
   "source": [
    "def shower(size=100):\n",
    "  \n",
    "  for sid in range(size):\n",
    "    x0_true = rng.random(size)*200-100\n",
    "    \n",
    "    nmu = np.zeroes(nDet)\n",
    "    \n",
    "    for i in range(nDet):\n",
    "      \n",
    "      dist = np.abs(x0_true-xDet[i])\n",
    "      l = 10*np.exp(-0.01*dist)\n",
    "      nmu[i]=rng.Poisson(l)\n",
    "    \n",
    "    hist, bin_edges = np.histogram(a, density=True)\n",
    "    for ix in range(200):\n",
    "      logL = 0\n",
    "      thisx0 = ix-99.5\n",
    "      \n",
    "      for idet in range(nDet):\n",
    "        thisd = np.abs()\n",
    "      \n",
    "    \n",
    "    "
   ]
  }
 ],
 "metadata": {
  "kernelspec": {
   "display_name": "Python 3 (ipykernel)",
   "language": "python",
   "name": "python3"
  },
  "language_info": {
   "codemirror_mode": {
    "name": "ipython",
    "version": 3
   },
   "file_extension": ".py",
   "mimetype": "text/x-python",
   "name": "python",
   "nbconvert_exporter": "python",
   "pygments_lexer": "ipython3",
   "version": "3.11.4"
  }
 },
 "nbformat": 4,
 "nbformat_minor": 5
}
